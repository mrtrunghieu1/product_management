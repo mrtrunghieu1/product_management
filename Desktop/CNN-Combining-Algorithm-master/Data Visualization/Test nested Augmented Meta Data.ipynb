{
 "cells": [
  {
   "cell_type": "code",
   "execution_count": 2,
   "metadata": {},
   "outputs": [],
   "source": [
    "import sys\n",
    "sys.path.append('..')\n",
    "import matplotlib.pyplot as plt\n",
    "import datetime\n",
    "import numpy as np\n",
    "import pickle"
   ]
  },
  {
   "cell_type": "code",
   "execution_count": 13,
   "metadata": {},
   "outputs": [],
   "source": [
    "\n",
    "\n",
    "train_md_50_file = '/Users/AnhVu/Study/PhD/athanh/CNN_Combining_Method/CNN-Combining-Algorithm/Meta_data/balance/Data_Augmentation/Balanced_GN/50/train_meta_data.pkl'\n",
    "train_md_50 = open(train_md_50_file, 'rb')\n",
    "\n",
    "train_md_100_file = '/Users/AnhVu/Study/PhD/athanh/CNN_Combining_Method/CNN-Combining-Algorithm/Meta_data/balance/Data_Augmentation/Balanced_GN/100/train_meta_data.pkl'\n",
    "train_md_100 = open(train_md_100_file, 'rb')\n",
    "\n",
    "train_meta_data_50 = pickle.load(train_md_50)\n",
    "train_meta_data_100 = pickle.load(train_md_100)\n"
   ]
  },
  {
   "cell_type": "code",
   "execution_count": 14,
   "metadata": {},
   "outputs": [
    {
     "data": {
      "text/plain": [
       "(587, 5, 3)"
      ]
     },
     "execution_count": 14,
     "metadata": {},
     "output_type": "execute_result"
    }
   ],
   "source": [
    "train_meta_data_50.shape"
   ]
  },
  {
   "cell_type": "code",
   "execution_count": 15,
   "metadata": {},
   "outputs": [
    {
     "data": {
      "text/plain": [
       "(737, 5, 3)"
      ]
     },
     "execution_count": 15,
     "metadata": {},
     "output_type": "execute_result"
    }
   ],
   "source": [
    "train_meta_data_100.shape"
   ]
  },
  {
   "cell_type": "code",
   "execution_count": 17,
   "metadata": {},
   "outputs": [
    {
     "data": {
      "text/plain": [
       "0.0"
      ]
     },
     "execution_count": 17,
     "metadata": {},
     "output_type": "execute_result"
    }
   ],
   "source": [
    "np.sum(train_meta_data_100[:50] - train_meta_data_50[:50])"
   ]
  },
  {
   "cell_type": "code",
   "execution_count": null,
   "metadata": {},
   "outputs": [],
   "source": []
  }
 ],
 "metadata": {
  "kernelspec": {
   "display_name": "Python 3",
   "language": "python",
   "name": "python3"
  },
  "language_info": {
   "codemirror_mode": {
    "name": "ipython",
    "version": 3
   },
   "file_extension": ".py",
   "mimetype": "text/x-python",
   "name": "python",
   "nbconvert_exporter": "python",
   "pygments_lexer": "ipython3",
   "version": "3.6.7"
  }
 },
 "nbformat": 4,
 "nbformat_minor": 2
}
