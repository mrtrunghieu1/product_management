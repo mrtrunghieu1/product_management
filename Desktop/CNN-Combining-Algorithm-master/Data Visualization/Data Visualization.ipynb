{
 "cells": [
  {
   "cell_type": "code",
   "execution_count": 1,
   "metadata": {},
   "outputs": [],
   "source": [
    "import sys\n",
    "sys.path.append('..')\n",
    "import matplotlib.pyplot as plt\n",
    "import datetime\n",
    "import numpy as np\n",
    "import pickle"
   ]
  },
  {
   "cell_type": "code",
   "execution_count": 2,
   "metadata": {},
   "outputs": [
    {
     "name": "stdout",
     "output_type": "stream",
     "text": [
      "/Users/AnhVu/Study/PhD/athanh/gcEnsemble/gcEnsemble_code_final_Add_original_features/data/\n",
      "['australian', 'balance']\n"
     ]
    }
   ],
   "source": [
    "from data_helper import file_list, data_folder, cv_folder\n",
    "\n",
    "print(data_folder)\n",
    "print(file_list)"
   ]
  },
  {
   "cell_type": "code",
   "execution_count": 3,
   "metadata": {},
   "outputs": [],
   "source": [
    "i_file = 1"
   ]
  },
  {
   "cell_type": "code",
   "execution_count": 4,
   "metadata": {},
   "outputs": [
    {
     "name": "stdout",
     "output_type": "stream",
     "text": [
      "2020-05-06 22:10:30.656703  File 1:  balance\n"
     ]
    }
   ],
   "source": [
    "file_name = file_list[i_file]\n",
    "print(datetime.datetime.now(),' File {}: '.format(i_file), file_name)\n",
    "\n",
    "'''-------------------------Data Loader -----------------------'''\n",
    "D_train = np.loadtxt(data_folder + '/train1/' + file_name + '_train1.dat', delimiter=',')\n",
    "D_val = np.loadtxt(data_folder + '/val/' + file_name + '_val.dat', delimiter=',')\n",
    "D_test = np.loadtxt(data_folder + '/test/' + file_name + '_test.dat', delimiter=',')\n",
    "\n",
    "X_train_original = np.concatenate((D_train, D_val), axis=0)\n",
    "X_test_original = D_test"
   ]
  },
  {
   "cell_type": "code",
   "execution_count": 5,
   "metadata": {},
   "outputs": [
    {
     "data": {
      "text/plain": [
       "'/Users/AnhVu/Study/PhD/athanh/CNN_Combining_Method/CNN-Combining-Algorithm/Meta_data/balance/Data_Augmentation/Fact/50'"
      ]
     },
     "execution_count": 5,
     "metadata": {},
     "output_type": "execute_result"
    }
   ],
   "source": [
    "n_additions = 50\n",
    "metadata_folder = \"/Users/AnhVu/Study/PhD/athanh/CNN_Combining_Method/CNN-Combining-Algorithm/Meta_data\"\n",
    "metadata_file = metadata_folder + '/{}/Data_Augmentation/Fact/{}'.format(file_name, n_additions)\n",
    "metadata_file"
   ]
  },
  {
   "cell_type": "code",
   "execution_count": 6,
   "metadata": {},
   "outputs": [],
   "source": [
    "train_md = open(metadata_file + '/train_meta_data.pkl', 'rb')\n",
    "lable_file = open(metadata_file + '/label_meta_data.pkl', 'rb')\n",
    "train_meta_data = pickle.load(train_md)\n",
    "label_meta_data = pickle.load(lable_file)"
   ]
  },
  {
   "cell_type": "code",
   "execution_count": 7,
   "metadata": {},
   "outputs": [],
   "source": [
    "num_samples = train_meta_data.shape[0]\n",
    "num_classifiers = train_meta_data.shape[1]\n",
    "num_classes = train_meta_data.shape[2]"
   ]
  },
  {
   "cell_type": "code",
   "execution_count": 8,
   "metadata": {},
   "outputs": [
    {
     "data": {
      "text/plain": [
       "(487, 5, 3)"
      ]
     },
     "execution_count": 8,
     "metadata": {},
     "output_type": "execute_result"
    }
   ],
   "source": [
    "train_meta_data.shape"
   ]
  },
  {
   "cell_type": "code",
   "execution_count": 9,
   "metadata": {},
   "outputs": [
    {
     "data": {
      "text/plain": [
       "array([[2.58180199e-01, 1.13974991e-01, 6.27844810e-01, ...,\n",
       "        1.84626598e-02, 8.03812742e-01, 1.77724585e-01],\n",
       "       [0.00000000e+00, 0.00000000e+00, 1.00000000e+00, ...,\n",
       "        2.42692910e-01, 1.07017967e-01, 6.50289124e-01],\n",
       "       [2.01989025e-01, 1.56692609e-01, 6.41318366e-01, ...,\n",
       "        1.60000000e-01, 1.70000000e-01, 6.70000000e-01],\n",
       "       ...,\n",
       "       [9.99937177e-01, 4.97594701e-05, 1.30889794e-05, ...,\n",
       "        1.00000000e+00, 0.00000000e+00, 0.00000000e+00],\n",
       "       [7.75544465e-01, 1.75088912e-01, 4.93665673e-02, ...,\n",
       "        8.15000000e-01, 8.50000000e-02, 1.00000000e-01],\n",
       "       [7.23568916e-01, 3.79412062e-02, 2.38489851e-01, ...,\n",
       "        4.30000000e-01, 2.15000000e-01, 3.55000000e-01]])"
      ]
     },
     "execution_count": 9,
     "metadata": {},
     "output_type": "execute_result"
    }
   ],
   "source": [
    "train_md = train_meta_data.reshape(num_samples, num_classifiers*num_classes)\n",
    "train_md"
   ]
  },
  {
   "cell_type": "code",
   "execution_count": 10,
   "metadata": {},
   "outputs": [
    {
     "data": {
      "text/plain": [
       "array([7, 6])"
      ]
     },
     "execution_count": 10,
     "metadata": {},
     "output_type": "execute_result"
    }
   ],
   "source": [
    "random_position = np.random.randint(10, size=(2))\n",
    "random_position"
   ]
  },
  {
   "cell_type": "code",
   "execution_count": 11,
   "metadata": {},
   "outputs": [],
   "source": [
    "selection_columns = train_md[:, random_position]\n",
    "col_0 = selection_columns[:,0]\n",
    "col_1 = selection_columns[:,1]"
   ]
  },
  {
   "cell_type": "code",
   "execution_count": 12,
   "metadata": {},
   "outputs": [
    {
     "data": {
      "text/plain": [
       "Text(0, 0.5, 'col_1')"
      ]
     },
     "execution_count": 12,
     "metadata": {},
     "output_type": "execute_result"
    },
    {
     "data": {
      "image/png": "[encoded data removed]",
      "text/plain": [
       "<Figure size 432x288 with 1 Axes>"
      ]
     },
     "metadata": {
      "needs_background": "light"
     },
     "output_type": "display_data"
    }
   ],
   "source": [
    "colors = {'1':'r', '2':'g', '3':'b'}\n",
    "fig, ax = plt.subplots()\n",
    "for i in range(len(label_meta_data)):\n",
    "    ax.scatter(col_0[i], col_1[i], color = colors['{}'.format(label_meta_data[i])])\n",
    "# set a title and labels\n",
    "ax.set_title('Meta Data {}'.format(file_name))\n",
    "ax.set_xlabel('col_0')\n",
    "ax.set_ylabel('col_1')"
   ]
  },
  {
   "cell_type": "code",
   "execution_count": null,
   "metadata": {},
   "outputs": [],
   "source": []
  }
 ],
 "metadata": {
  "kernelspec": {
   "display_name": "Python 3",
   "language": "python",
   "name": "python3"
  },
  "language_info": {
   "codemirror_mode": {
    "name": "ipython",
    "version": 3
   },
   "file_extension": ".py",
   "mimetype": "text/x-python",
   "name": "python",
   "nbconvert_exporter": "python",
   "pygments_lexer": "ipython3",
   "version": "3.6.7"
  }
 },
 "nbformat": 4,
 "nbformat_minor": 4
}
